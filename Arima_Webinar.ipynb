{
 "cells": [
  {
   "cell_type": "code",
   "execution_count": null,
   "metadata": {},
   "outputs": [],
   "source": [
    "# Importieren der wichtigen packages\n",
    "import csv\n",
    "import warnings\n",
    "import itertools\n",
    "import pandas as pd\n",
    "import numpy as np\n",
    "import statsmodels.api as sm\n",
    "from statsmodels.tsa.stattools import adfuller\n",
    "from statsmodels.tsa.stattools import acf, pacf\n",
    "from statsmodels.tsa.seasonal import seasonal_decompose\n",
    "from statsmodels.tsa.arima_model import ARIMA\n",
    "import matplotlib.pyplot as plt\n",
    "from matplotlib.pylab import rcParams\n",
    "rcParams['figure.figsize'] = 10, 6\n",
    "plt.style.use('fivethirtyeight')"
   ]
  },
  {
   "cell_type": "code",
   "execution_count": null,
   "metadata": {},
   "outputs": [],
   "source": [
    "# Einlesen und Laden der Excel Datei\n",
    "\n",
    "\n",
    "path = \"C:\\\\Users\\\\JulianKoller\\\\Desktop\\\\Passengers.csv\"\n",
    "dataset = pd.read_csv(path)\n",
    "\n",
    "# Umwandeln der Zeit in Datumsformat\n",
    "\n",
    "dataset['Month'] = pd.to_datetime(dataset['Month'],infer_datetime_format=True) #convert from string to datetime\n",
    "indexedDataset = dataset.set_index(['Month'])\n",
    "indexedDataset.head(5)"
   ]
  },
  {
   "cell_type": "code",
   "execution_count": null,
   "metadata": {},
   "outputs": [],
   "source": [
    "# Aufspalten des Datensets in Training- und Testdaten\n",
    "dataset_train = indexedDataset.loc[:'1956-01']\n",
    "dataset_test = indexedDataset.loc['1956-01':]\n",
    "\n",
    "# Erstellen einer Achse\n",
    "fig, ax = plt.subplots()\n",
    "\n",
    "# Visualisieren des Training- und Testdaten auf der ax-Achse\n",
    "dataset_train.plot(ax=ax)\n",
    "dataset_test.plot(ax=ax)\n",
    "plt.show()"
   ]
  },
  {
   "cell_type": "code",
   "execution_count": null,
   "metadata": {},
   "outputs": [],
   "source": [
    "# Importieren der augmentierte dicky-fuller test funktion\n",
    "from statsmodels.tsa.stattools import adfuller\n",
    "\n",
    "# Testen der Daten\n",
    "result = adfuller(dataset['#Passengers'])\n",
    "\n",
    "# Zeigen der Test-Statistik\n",
    "print(result[0])\n",
    "\n",
    "# Zeigen des P-Wert\n",
    "print(result[1])"
   ]
  },
  {
   "cell_type": "code",
   "execution_count": null,
   "metadata": {},
   "outputs": [],
   "source": [
    "# Errechnung der ersten Differenz der Zeitreihe\n",
    "passengers_stationary = dataset['#Passengers'].diff().dropna()\n",
    "print(passengers_stationary )\n",
    "# Testen der Zeitreihe mithilfe des Dicky-Fuller Tests\n",
    "result = adfuller(passengers_stationary)\n",
    "\n",
    "#Zeigen der Zeitreihe\n",
    "fig, ax = plt.subplots()\n",
    "passengers_stationary.plot(ax=ax)\n",
    "plt.show()\n",
    "\n",
    "# Teststatistik und der p-Wert\n",
    "print('ADF Statistic:', result[0])\n",
    "print('p-value:', result[1])"
   ]
  },
  {
   "cell_type": "code",
   "execution_count": null,
   "metadata": {},
   "outputs": [],
   "source": [
    "# Zweifache Differenzierung der Zeitreihe\n",
    "passengers_stationary = dataset['#Passengers'].diff().diff().dropna()\n",
    "\n",
    "# Testen der Zeitreihe mithilfe des Dicky-Fuller Tests\n",
    "result = adfuller(passengers_stationary)\n",
    "\n",
    "# Zeigen der Zeitreihe\n",
    "fig, ax = plt.subplots()\n",
    "passengers_stationary.plot(ax=ax)\n",
    "plt.show()\n",
    "\n",
    "# Teststatistik und der p-Wert\n",
    "print('ADF Statistic:', result[0])\n",
    "print('p-value:', result[1])"
   ]
  },
  {
   "cell_type": "code",
   "execution_count": null,
   "metadata": {},
   "outputs": [],
   "source": [
    "passengers_stationary = np.log(dataset['#Passengers']/dataset['#Passengers'].shift(1))\n",
    "passengers_stationary = passengers_stationary.dropna()\n",
    "result = adfuller(passengers_stationary)\n",
    "\n",
    "# Zeigen der Zeitreihe\n",
    "fig, ax = plt.subplots()\n",
    "passengers_stationary.plot(ax=ax)\n",
    "plt.show()\n",
    "\n",
    "# Teststatistik und der p-Wert\n",
    "print('ADF Statistic:', result[0])\n",
    "print('p-value:', result[1])\n"
   ]
  },
  {
   "cell_type": "code",
   "execution_count": null,
   "metadata": {},
   "outputs": [],
   "source": [
    "y=dataset['#Passengers']\n",
    "# Definiere die p, d und q parameter sodass sie jeden Wert zwischen 0 und 2 annehmen können\n",
    "p = d = q = range(0, 2)\n",
    "\n",
    "# Erzeuge alle verschiedenen Kombinationen von p, q und q tupeln\n",
    "pdq = list(itertools.product(p, d, q))\n",
    "\n",
    "# Erzeuge alle verschiedenen Kombinationen von p, q und q tupeln + Saison\n",
    "seasonal_pdq = [(x[0], x[1], x[2], 12) for x in list(itertools.product(p, d, q))]\n",
    "\n",
    "print('Examples of parameter combinations for Seasonal ARIMA...')\n",
    "print('SARIMAX: {} x {}'.format(pdq[1], seasonal_pdq[1]))\n",
    "print('SARIMAX: {} x {}'.format(pdq[1], seasonal_pdq[2]))\n",
    "print('SARIMAX: {} x {}'.format(pdq[2], seasonal_pdq[3]))\n",
    "print('SARIMAX: {} x {}'.format(pdq[2], seasonal_pdq[4]))"
   ]
  },
  {
   "cell_type": "code",
   "execution_count": null,
   "metadata": {},
   "outputs": [],
   "source": [
    "warnings.filterwarnings(\"ignore\") # ignoriere warning messages\n",
    "\n",
    "for param in pdq:\n",
    "    for param_seasonal in seasonal_pdq:\n",
    "        try:\n",
    "            mod = sm.tsa.statespace.SARIMAX(y,\n",
    "                                            order=param,\n",
    "                                            seasonal_order=param_seasonal,\n",
    "                                            enforce_stationarity=False,\n",
    "                                            enforce_invertibility=False)\n",
    "\n",
    "            results = mod.fit()\n",
    "\n",
    "            print('ARIMA{}x{}12 - AIC:{}'.format(param, param_seasonal, results.aic))\n",
    "        except:\n",
    "            continue"
   ]
  },
  {
   "cell_type": "code",
   "execution_count": null,
   "metadata": {},
   "outputs": [],
   "source": [
    "mod = sm.tsa.statespace.SARIMAX(y,\n",
    "                                order=(1, 1, 1),\n",
    "                                seasonal_order=(1, 1, 1, 12),\n",
    "                                enforce_stationarity=False,\n",
    "                                enforce_invertibility=False)\n",
    "\n",
    "results = mod.fit()\n",
    "\n",
    "print(results.summary().tables[1])"
   ]
  },
  {
   "cell_type": "code",
   "execution_count": null,
   "metadata": {},
   "outputs": [],
   "source": [
    "# Rechne 48 Schritte in die Zukunft\n",
    "pred_uc = results.get_forecast(steps=48)\n",
    "\n",
    "# Lege mir das Konfidenzintervall an\n",
    "pred_ci = pred_uc.conf_int()"
   ]
  },
  {
   "cell_type": "code",
   "execution_count": null,
   "metadata": {},
   "outputs": [],
   "source": [
    "ax = y.plot(label='observed', figsize=(20, 15))\n",
    "pred_uc.predicted_mean.plot(ax=ax, label='Forecast')\n",
    "ax.fill_between(pred_ci.index,\n",
    "                pred_ci.iloc[:, 0],\n",
    "                pred_ci.iloc[:, 1], color='k', alpha=.25)\n",
    "ax.set_xlabel('Date')\n",
    "ax.set_ylabel('CO2 Levels')\n",
    "\n",
    "plt.legend()\n",
    "plt.show()"
   ]
  },
  {
   "cell_type": "code",
   "execution_count": null,
   "metadata": {},
   "outputs": [],
   "source": [
    "#Gebe die ARIMA Prognosewerte aus\n",
    "print(pred_uc.predicted_mean)"
   ]
  }
 ],
 "metadata": {
  "kernelspec": {
   "display_name": "Python 3",
   "language": "python",
   "name": "python3"
  },
  "language_info": {
   "codemirror_mode": {
    "name": "ipython",
    "version": 3
   },
   "file_extension": ".py",
   "mimetype": "text/x-python",
   "name": "python",
   "nbconvert_exporter": "python",
   "pygments_lexer": "ipython3",
   "version": "3.7.7"
  }
 },
 "nbformat": 4,
 "nbformat_minor": 2
}
